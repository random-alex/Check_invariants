{
 "cells": [
  {
   "cell_type": "code",
   "execution_count": 1,
   "metadata": {
    "collapsed": true
   },
   "outputs": [],
   "source": [
    "import numpy\n",
    "import pyalps"
   ]
  },
  {
   "cell_type": "code",
   "execution_count": 8,
   "metadata": {
    "collapsed": true
   },
   "outputs": [],
   "source": [
    "#prepare the input parameters\n",
    "parms = []\n",
    "#value_j = [0.4,0.2,0.1,0.05,0.04]\n",
    "value_j = [1 , 2 , 3 , 4 , 5 , 6 , 7 , 8 , 9 , 10]\n",
    "value_T = [1 , 2 , 3 , 4 , 5 , 6 , 7 , 8 , 9 , 10]\n",
    "\n",
    "for i in  range(len(value_j)):\n",
    "    parms.append(\n",
    "            { \n",
    "          'LATTICE'                   : \"chain lattice\",             \n",
    "          #'LATTICE'                   : \"square lattice\", \n",
    "          'MODEL'                     : \"spin\",\n",
    "          'LATTICE_LIBRARY'           : 'lattices.xml',\n",
    "          #   'MODEL_LIBRARY'         : 'models.xml',\n",
    "          'local_S'                   : 0.5,\n",
    "          #   'ALGORITHM'             : 'loop',\n",
    "          'T'                         : value_T[i],\n",
    "          'J'                         : value_j[i] ,\n",
    "          'THERMALIZATION'            : 20000,\n",
    "          'SWEEPS'                    : 60000,\n",
    "          #'L'                         : 2,#size of lattice\n",
    "          'L'                         : 8,#size of lattice \n",
    "          'h'                         : 0,#magnetic field in z direction\n",
    "          'NUMBER_EIGENVALUES'        : 2,\n",
    "                #'TOTAL_MOMENTUM'             : 0,\n",
    "          'SEED'                      : 0\n",
    "            }\n",
    "    )\n",
    "   \n",
    "    "
   ]
  },
  {
   "cell_type": "code",
   "execution_count": 9,
   "metadata": {},
   "outputs": [
    {
     "name": "stdout",
     "output_type": "stream",
     "text": [
      "sparsediag Heiz_chain.in.xml --write-xml\n"
     ]
    }
   ],
   "source": [
    "\n",
    "#write the input file and run the simulation\n",
    "input_file = pyalps.writeInputFiles('Heiz_chain',parms)\n",
    "res = pyalps.runApplication('sparsediag',input_file,writexml=True)\n"
   ]
  },
  {
   "cell_type": "code",
   "execution_count": 59,
   "metadata": {},
   "outputs": [
    {
     "name": "stdout",
     "output_type": "stream",
     "text": [
      "dirloop_sse Heiz_chain_dirloop.in.xml --write-xml\n"
     ]
    }
   ],
   "source": [
    "input_file = pyalps.writeInputFiles('Heiz_chain_dirloop',parms)\n",
    "res = pyalps.runApplication('dirloop_sse',input_file,writexml=True)\n"
   ]
  }
 ],
 "metadata": {
  "kernelspec": {
   "display_name": "Python 2",
   "language": "python",
   "name": "python2"
  },
  "language_info": {
   "codemirror_mode": {
    "name": "ipython",
    "version": 2
   },
   "file_extension": ".py",
   "mimetype": "text/x-python",
   "name": "python",
   "nbconvert_exporter": "python",
   "pygments_lexer": "ipython2",
   "version": "2.7.14"
  }
 },
 "nbformat": 4,
 "nbformat_minor": 2
}
